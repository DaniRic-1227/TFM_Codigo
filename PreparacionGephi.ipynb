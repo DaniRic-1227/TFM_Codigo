{
  "cells": [
    {
      "attachments": {},
      "cell_type": "markdown",
      "metadata": {},
      "source": [
        "# Import"
      ]
    },
    {
      "cell_type": "code",
      "execution_count": 1,
      "metadata": {
        "colab": {
          "base_uri": "https://localhost:8080/"
        },
        "id": "HJpSctTjUq_A",
        "outputId": "4ff2b333-6eb2-4dc5-de7b-d1abc8015e1a"
      },
      "outputs": [],
      "source": [
        "# Imports generales\n",
        "import pandas as pd\n",
        "import io\n",
        "import numpy as np\n",
        "import time\n",
        "import datetime"
      ]
    },
    {
      "cell_type": "code",
      "execution_count": 80,
      "metadata": {
        "colab": {
          "base_uri": "https://localhost:8080/",
          "height": 297
        },
        "id": "B5cmWY8QU4md",
        "outputId": "7dc3fd14-789d-43c6-bc95-792faefa7c47"
      },
      "outputs": [],
      "source": [
        "# Subir el conjunto de datos\n",
        "data = pd.read_csv(r'D:/Documentos/Master_BigData/14-TFM/VisualStudio/csv/weighted_tabla_aristas_noaltarifazo.csv')"
      ]
    },
    {
      "cell_type": "code",
      "execution_count": null,
      "metadata": {
        "colab": {
          "base_uri": "https://localhost:8080/"
        },
        "id": "Tym7J-mFcok1",
        "outputId": "2e648e4c-81e0-4ca2-ce84-711fac7e400c"
      },
      "outputs": [],
      "source": [
        "#Observar el numero de hashtags unicos\n",
        "uniqueValues_h1 = data['hashtag'].nunique()\n",
        "print(uniqueValues_h1)"
      ]
    },
    {
      "cell_type": "code",
      "execution_count": 26,
      "metadata": {
        "colab": {
          "base_uri": "https://localhost:8080/"
        },
        "id": "OkivJTQULHs3",
        "outputId": "b0c993d7-ba7a-47c0-d68c-edc793c37966"
      },
      "outputs": [
        {
          "name": "stdout",
          "output_type": "stream",
          "text": [
            "9670\n"
          ]
        }
      ],
      "source": [
        "#Observar el numero usuarios unicos\n",
        "uniqueValues_u1 = data['user'].nunique()\n",
        "print(uniqueValues_u1)"
      ]
    },
    {
      "cell_type": "code",
      "execution_count": 81,
      "metadata": {
        "id": "Xbm49Kk9WL5-"
      },
      "outputs": [],
      "source": [
        "#Cambiar la columna hour, ya que al muliplicar sus valores por 3600, las horas se encuentran en Unix Timestamp\n",
        "data['hour'] = data['hour']*3600 \n",
        "data['hour'] = pd.to_datetime(data[\"hour\"], unit=\"s\")"
      ]
    },
    {
      "cell_type": "code",
      "execution_count": 82,
      "metadata": {
        "colab": {
          "base_uri": "https://localhost:8080/",
          "height": 206
        },
        "id": "yrcmxwP3VMmG",
        "outputId": "a5185828-58be-4658-b9c0-6152fcae0172"
      },
      "outputs": [
        {
          "data": {
            "text/html": [
              "<div>\n",
              "<style scoped>\n",
              "    .dataframe tbody tr th:only-of-type {\n",
              "        vertical-align: middle;\n",
              "    }\n",
              "\n",
              "    .dataframe tbody tr th {\n",
              "        vertical-align: top;\n",
              "    }\n",
              "\n",
              "    .dataframe thead th {\n",
              "        text-align: right;\n",
              "    }\n",
              "</style>\n",
              "<table border=\"1\" class=\"dataframe\">\n",
              "  <thead>\n",
              "    <tr style=\"text-align: right;\">\n",
              "      <th></th>\n",
              "      <th>Source</th>\n",
              "      <th>Target</th>\n",
              "      <th>hour</th>\n",
              "      <th>weight</th>\n",
              "    </tr>\n",
              "  </thead>\n",
              "  <tbody>\n",
              "    <tr>\n",
              "      <th>0</th>\n",
              "      <td>0</td>\n",
              "      <td>44</td>\n",
              "      <td>2019-01-03 23:00:00</td>\n",
              "      <td>1</td>\n",
              "    </tr>\n",
              "    <tr>\n",
              "      <th>1</th>\n",
              "      <td>0</td>\n",
              "      <td>115</td>\n",
              "      <td>2019-01-03 13:00:00</td>\n",
              "      <td>1</td>\n",
              "    </tr>\n",
              "    <tr>\n",
              "      <th>2</th>\n",
              "      <td>0</td>\n",
              "      <td>257</td>\n",
              "      <td>2019-01-03 23:00:00</td>\n",
              "      <td>1</td>\n",
              "    </tr>\n",
              "    <tr>\n",
              "      <th>3</th>\n",
              "      <td>0</td>\n",
              "      <td>766</td>\n",
              "      <td>2019-01-03 23:00:00</td>\n",
              "      <td>1</td>\n",
              "    </tr>\n",
              "    <tr>\n",
              "      <th>4</th>\n",
              "      <td>0</td>\n",
              "      <td>1081</td>\n",
              "      <td>2019-01-03 13:00:00</td>\n",
              "      <td>1</td>\n",
              "    </tr>\n",
              "  </tbody>\n",
              "</table>\n",
              "</div>"
            ],
            "text/plain": [
              "   Source  Target                hour  weight\n",
              "0       0      44 2019-01-03 23:00:00       1\n",
              "1       0     115 2019-01-03 13:00:00       1\n",
              "2       0     257 2019-01-03 23:00:00       1\n",
              "3       0     766 2019-01-03 23:00:00       1\n",
              "4       0    1081 2019-01-03 13:00:00       1"
            ]
          },
          "execution_count": 82,
          "metadata": {},
          "output_type": "execute_result"
        }
      ],
      "source": [
        "data.head()"
      ]
    },
    {
      "cell_type": "code",
      "execution_count": 83,
      "metadata": {
        "id": "IcY3sqGj-ZMh"
      },
      "outputs": [
        {
          "name": "stdout",
          "output_type": "stream",
          "text": [
            "<DatetimeArray>\n",
            "['2019-01-03 23:00:00', '2019-01-03 13:00:00', '2019-01-03 01:00:00',\n",
            " '2019-01-02 17:00:00', '2019-01-02 09:00:00', '2019-01-04 02:00:00',\n",
            " '2019-01-03 19:00:00', '2019-01-03 21:00:00', '2019-01-04 03:00:00',\n",
            " '2019-01-03 20:00:00',\n",
            " ...\n",
            " '2019-01-03 06:00:00', '2019-01-04 06:00:00', '2019-01-08 06:00:00',\n",
            " '2019-01-11 07:00:00', '2019-01-10 06:00:00', '2019-01-10 07:00:00',\n",
            " '2019-01-02 07:00:00', '2019-01-06 09:00:00', '2019-01-01 09:00:00',\n",
            " '2019-01-08 07:00:00']\n",
            "Length: 260, dtype: datetime64[ns]\n",
            "260\n"
          ]
        }
      ],
      "source": [
        "#Observar las horas unicas y su cantidad\n",
        "print(data['hour'].unique())\n",
        "print(data['hour'].nunique())"
      ]
    },
    {
      "cell_type": "code",
      "execution_count": 84,
      "metadata": {},
      "outputs": [],
      "source": [
        "dataf = data.loc[data.hour == \"2019-01-07 14:00:00\"]"
      ]
    },
    {
      "cell_type": "code",
      "execution_count": 85,
      "metadata": {},
      "outputs": [],
      "source": [
        "dataf = dataf.reset_index(drop=True)"
      ]
    },
    {
      "cell_type": "code",
      "execution_count": 86,
      "metadata": {},
      "outputs": [
        {
          "data": {
            "text/html": [
              "<div>\n",
              "<style scoped>\n",
              "    .dataframe tbody tr th:only-of-type {\n",
              "        vertical-align: middle;\n",
              "    }\n",
              "\n",
              "    .dataframe tbody tr th {\n",
              "        vertical-align: top;\n",
              "    }\n",
              "\n",
              "    .dataframe thead th {\n",
              "        text-align: right;\n",
              "    }\n",
              "</style>\n",
              "<table border=\"1\" class=\"dataframe\">\n",
              "  <thead>\n",
              "    <tr style=\"text-align: right;\">\n",
              "      <th></th>\n",
              "      <th>Source</th>\n",
              "      <th>Target</th>\n",
              "      <th>hour</th>\n",
              "      <th>weight</th>\n",
              "    </tr>\n",
              "  </thead>\n",
              "  <tbody>\n",
              "    <tr>\n",
              "      <th>0</th>\n",
              "      <td>14</td>\n",
              "      <td>15</td>\n",
              "      <td>2019-01-07 14:00:00</td>\n",
              "      <td>1</td>\n",
              "    </tr>\n",
              "    <tr>\n",
              "      <th>1</th>\n",
              "      <td>14</td>\n",
              "      <td>2417</td>\n",
              "      <td>2019-01-07 14:00:00</td>\n",
              "      <td>1</td>\n",
              "    </tr>\n",
              "    <tr>\n",
              "      <th>2</th>\n",
              "      <td>14</td>\n",
              "      <td>4604</td>\n",
              "      <td>2019-01-07 14:00:00</td>\n",
              "      <td>1</td>\n",
              "    </tr>\n",
              "    <tr>\n",
              "      <th>3</th>\n",
              "      <td>14</td>\n",
              "      <td>6302</td>\n",
              "      <td>2019-01-07 14:00:00</td>\n",
              "      <td>1</td>\n",
              "    </tr>\n",
              "    <tr>\n",
              "      <th>4</th>\n",
              "      <td>14</td>\n",
              "      <td>7583</td>\n",
              "      <td>2019-01-07 14:00:00</td>\n",
              "      <td>1</td>\n",
              "    </tr>\n",
              "    <tr>\n",
              "      <th>...</th>\n",
              "      <td>...</td>\n",
              "      <td>...</td>\n",
              "      <td>...</td>\n",
              "      <td>...</td>\n",
              "    </tr>\n",
              "    <tr>\n",
              "      <th>745</th>\n",
              "      <td>20255</td>\n",
              "      <td>22280</td>\n",
              "      <td>2019-01-07 14:00:00</td>\n",
              "      <td>1</td>\n",
              "    </tr>\n",
              "    <tr>\n",
              "      <th>746</th>\n",
              "      <td>20357</td>\n",
              "      <td>22748</td>\n",
              "      <td>2019-01-07 14:00:00</td>\n",
              "      <td>1</td>\n",
              "    </tr>\n",
              "    <tr>\n",
              "      <th>747</th>\n",
              "      <td>20357</td>\n",
              "      <td>22754</td>\n",
              "      <td>2019-01-07 14:00:00</td>\n",
              "      <td>1</td>\n",
              "    </tr>\n",
              "    <tr>\n",
              "      <th>748</th>\n",
              "      <td>20834</td>\n",
              "      <td>22834</td>\n",
              "      <td>2019-01-07 14:00:00</td>\n",
              "      <td>1</td>\n",
              "    </tr>\n",
              "    <tr>\n",
              "      <th>749</th>\n",
              "      <td>22748</td>\n",
              "      <td>22754</td>\n",
              "      <td>2019-01-07 14:00:00</td>\n",
              "      <td>1</td>\n",
              "    </tr>\n",
              "  </tbody>\n",
              "</table>\n",
              "<p>750 rows × 4 columns</p>\n",
              "</div>"
            ],
            "text/plain": [
              "     Source  Target                hour  weight\n",
              "0        14      15 2019-01-07 14:00:00       1\n",
              "1        14    2417 2019-01-07 14:00:00       1\n",
              "2        14    4604 2019-01-07 14:00:00       1\n",
              "3        14    6302 2019-01-07 14:00:00       1\n",
              "4        14    7583 2019-01-07 14:00:00       1\n",
              "..      ...     ...                 ...     ...\n",
              "745   20255   22280 2019-01-07 14:00:00       1\n",
              "746   20357   22748 2019-01-07 14:00:00       1\n",
              "747   20357   22754 2019-01-07 14:00:00       1\n",
              "748   20834   22834 2019-01-07 14:00:00       1\n",
              "749   22748   22754 2019-01-07 14:00:00       1\n",
              "\n",
              "[750 rows x 4 columns]"
            ]
          },
          "execution_count": 86,
          "metadata": {},
          "output_type": "execute_result"
        }
      ],
      "source": [
        "dataf"
      ]
    },
    {
      "cell_type": "code",
      "execution_count": 87,
      "metadata": {
        "id": "qgNjaIvfapWI"
      },
      "outputs": [],
      "source": [
        "dataf.to_csv('D:/Documentos/Master_BigData/14-TFM/VisualStudio/csv/weighted_noaltarifazo_2019-01-07_14h.csv', index=False)"
      ]
    }
  ],
  "metadata": {
    "colab": {
      "provenance": [],
      "toc_visible": true
    },
    "kernelspec": {
      "display_name": "Python 3",
      "name": "python3"
    },
    "language_info": {
      "codemirror_mode": {
        "name": "ipython",
        "version": 3
      },
      "file_extension": ".py",
      "mimetype": "text/x-python",
      "name": "python",
      "nbconvert_exporter": "python",
      "pygments_lexer": "ipython3",
      "version": "3.11.4"
    }
  },
  "nbformat": 4,
  "nbformat_minor": 0
}
