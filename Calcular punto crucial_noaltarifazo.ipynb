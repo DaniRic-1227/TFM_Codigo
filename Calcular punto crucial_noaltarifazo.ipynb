{
  "cells": [
    {
      "attachments": {},
      "cell_type": "markdown",
      "metadata": {},
      "source": [
        "# Import"
      ]
    },
    {
      "cell_type": "code",
      "execution_count": 32,
      "metadata": {
        "colab": {
          "base_uri": "https://localhost:8080/"
        },
        "id": "HJpSctTjUq_A",
        "outputId": "4ff2b333-6eb2-4dc5-de7b-d1abc8015e1a"
      },
      "outputs": [],
      "source": [
        "# Imports generales\n",
        "import antropy as ant\n",
        "import pandas as pd\n",
        "import io\n",
        "import numpy as np\n",
        "import time\n",
        "import datetime\n",
        "from scipy.stats import entropy"
      ]
    },
    {
      "cell_type": "code",
      "execution_count": 6,
      "metadata": {
        "colab": {
          "base_uri": "https://localhost:8080/",
          "height": 297
        },
        "id": "B5cmWY8QU4md",
        "outputId": "7dc3fd14-789d-43c6-bc95-792faefa7c47"
      },
      "outputs": [],
      "source": [
        "# Subir el conjunto de datos\n",
        "data = pd.read_csv(r'D:/Documentos/Master_BigData/14-TFM/DatosTFM/Manifestaciones/Data_noaltarifazo.csv')"
      ]
    },
    {
      "attachments": {},
      "cell_type": "markdown",
      "metadata": {
        "id": "-knrkD8XuCs4"
      },
      "source": [
        "# Primer Data set"
      ]
    },
    {
      "cell_type": "code",
      "execution_count": 7,
      "metadata": {
        "colab": {
          "base_uri": "https://localhost:8080/"
        },
        "id": "Tym7J-mFcok1",
        "outputId": "2e648e4c-81e0-4ca2-ce84-711fac7e400c"
      },
      "outputs": [
        {
          "name": "stdout",
          "output_type": "stream",
          "text": [
            "23398\n"
          ]
        }
      ],
      "source": [
        "#Observar el numero de hashtags unicos\n",
        "uniqueValues_h1 = data['hashtag'].nunique()\n",
        "print(uniqueValues_h1)"
      ]
    },
    {
      "cell_type": "code",
      "execution_count": 8,
      "metadata": {
        "colab": {
          "base_uri": "https://localhost:8080/"
        },
        "id": "OkivJTQULHs3",
        "outputId": "b0c993d7-ba7a-47c0-d68c-edc793c37966"
      },
      "outputs": [
        {
          "name": "stdout",
          "output_type": "stream",
          "text": [
            "9670\n"
          ]
        }
      ],
      "source": [
        "#Observar el numero usuarios unicos\n",
        "uniqueValues_u1 = data['user'].nunique()\n",
        "print(uniqueValues_u1)"
      ]
    },
    {
      "cell_type": "code",
      "execution_count": 9,
      "metadata": {
        "id": "Xbm49Kk9WL5-"
      },
      "outputs": [],
      "source": [
        "#Cambiar la columna hour, ya que al muliplicar sus valores por 3600, las horas se encuentran en Unix Timestamp\n",
        "data['hour'] = data['hour']*3600 \n",
        "data['hour'] = pd.to_datetime(data[\"hour\"], unit=\"s\")"
      ]
    },
    {
      "cell_type": "code",
      "execution_count": 10,
      "metadata": {
        "colab": {
          "base_uri": "https://localhost:8080/",
          "height": 206
        },
        "id": "yrcmxwP3VMmG",
        "outputId": "a5185828-58be-4658-b9c0-6152fcae0172"
      },
      "outputs": [
        {
          "data": {
            "text/html": [
              "<div>\n",
              "<style scoped>\n",
              "    .dataframe tbody tr th:only-of-type {\n",
              "        vertical-align: middle;\n",
              "    }\n",
              "\n",
              "    .dataframe tbody tr th {\n",
              "        vertical-align: top;\n",
              "    }\n",
              "\n",
              "    .dataframe thead th {\n",
              "        text-align: right;\n",
              "    }\n",
              "</style>\n",
              "<table border=\"1\" class=\"dataframe\">\n",
              "  <thead>\n",
              "    <tr style=\"text-align: right;\">\n",
              "      <th></th>\n",
              "      <th>user</th>\n",
              "      <th>hashtag</th>\n",
              "      <th>hour</th>\n",
              "    </tr>\n",
              "  </thead>\n",
              "  <tbody>\n",
              "    <tr>\n",
              "      <th>0</th>\n",
              "      <td>3393789761</td>\n",
              "      <td>6273</td>\n",
              "      <td>2019-01-01 03:00:00</td>\n",
              "    </tr>\n",
              "    <tr>\n",
              "      <th>1</th>\n",
              "      <td>3393789761</td>\n",
              "      <td>17658</td>\n",
              "      <td>2019-01-01 03:00:00</td>\n",
              "    </tr>\n",
              "    <tr>\n",
              "      <th>2</th>\n",
              "      <td>3393789761</td>\n",
              "      <td>17216</td>\n",
              "      <td>2019-01-01 03:00:00</td>\n",
              "    </tr>\n",
              "    <tr>\n",
              "      <th>3</th>\n",
              "      <td>173214382</td>\n",
              "      <td>6257</td>\n",
              "      <td>2019-01-01 03:00:00</td>\n",
              "    </tr>\n",
              "    <tr>\n",
              "      <th>4</th>\n",
              "      <td>173214382</td>\n",
              "      <td>6270</td>\n",
              "      <td>2019-01-01 03:00:00</td>\n",
              "    </tr>\n",
              "  </tbody>\n",
              "</table>\n",
              "</div>"
            ],
            "text/plain": [
              "         user  hashtag                hour\n",
              "0  3393789761     6273 2019-01-01 03:00:00\n",
              "1  3393789761    17658 2019-01-01 03:00:00\n",
              "2  3393789761    17216 2019-01-01 03:00:00\n",
              "3   173214382     6257 2019-01-01 03:00:00\n",
              "4   173214382     6270 2019-01-01 03:00:00"
            ]
          },
          "execution_count": 10,
          "metadata": {},
          "output_type": "execute_result"
        }
      ],
      "source": [
        "data.head()"
      ]
    },
    {
      "cell_type": "code",
      "execution_count": 11,
      "metadata": {
        "id": "IcY3sqGj-ZMh"
      },
      "outputs": [
        {
          "name": "stdout",
          "output_type": "stream",
          "text": [
            "<DatetimeArray>\n",
            "['2019-01-01 03:00:00', '2019-01-01 04:00:00', '2019-01-01 05:00:00',\n",
            " '2019-01-01 06:00:00', '2019-01-01 07:00:00', '2019-01-01 08:00:00',\n",
            " '2019-01-01 09:00:00', '2019-01-01 10:00:00', '2019-01-01 11:00:00',\n",
            " '2019-01-01 12:00:00',\n",
            " ...\n",
            " '2019-01-11 13:00:00', '2019-01-11 14:00:00', '2019-01-11 15:00:00',\n",
            " '2019-01-11 16:00:00', '2019-01-11 17:00:00', '2019-01-11 18:00:00',\n",
            " '2019-01-11 19:00:00', '2019-01-11 20:00:00', '2019-01-11 21:00:00',\n",
            " '2019-01-11 22:00:00']\n",
            "Length: 260, dtype: datetime64[ns]\n",
            "260\n"
          ]
        }
      ],
      "source": [
        "#Observar las horas unicas y su cantidad\n",
        "print(data['hour'].unique())\n",
        "print(data['hour'].nunique())"
      ]
    },
    {
      "cell_type": "code",
      "execution_count": 12,
      "metadata": {},
      "outputs": [
        {
          "data": {
            "text/html": [
              "<div>\n",
              "<style scoped>\n",
              "    .dataframe tbody tr th:only-of-type {\n",
              "        vertical-align: middle;\n",
              "    }\n",
              "\n",
              "    .dataframe tbody tr th {\n",
              "        vertical-align: top;\n",
              "    }\n",
              "\n",
              "    .dataframe thead th {\n",
              "        text-align: right;\n",
              "    }\n",
              "</style>\n",
              "<table border=\"1\" class=\"dataframe\">\n",
              "  <thead>\n",
              "    <tr style=\"text-align: right;\">\n",
              "      <th></th>\n",
              "      <th>user</th>\n",
              "      <th>hashtag</th>\n",
              "      <th>hour</th>\n",
              "    </tr>\n",
              "  </thead>\n",
              "  <tbody>\n",
              "    <tr>\n",
              "      <th>0</th>\n",
              "      <td>3393789761</td>\n",
              "      <td>6273</td>\n",
              "      <td>2019-01-01 03:00:00</td>\n",
              "    </tr>\n",
              "    <tr>\n",
              "      <th>1</th>\n",
              "      <td>3393789761</td>\n",
              "      <td>17658</td>\n",
              "      <td>2019-01-01 03:00:00</td>\n",
              "    </tr>\n",
              "    <tr>\n",
              "      <th>2</th>\n",
              "      <td>3393789761</td>\n",
              "      <td>17216</td>\n",
              "      <td>2019-01-01 03:00:00</td>\n",
              "    </tr>\n",
              "    <tr>\n",
              "      <th>3</th>\n",
              "      <td>173214382</td>\n",
              "      <td>6257</td>\n",
              "      <td>2019-01-01 03:00:00</td>\n",
              "    </tr>\n",
              "    <tr>\n",
              "      <th>4</th>\n",
              "      <td>173214382</td>\n",
              "      <td>6270</td>\n",
              "      <td>2019-01-01 03:00:00</td>\n",
              "    </tr>\n",
              "  </tbody>\n",
              "</table>\n",
              "</div>"
            ],
            "text/plain": [
              "         user  hashtag                hour\n",
              "0  3393789761     6273 2019-01-01 03:00:00\n",
              "1  3393789761    17658 2019-01-01 03:00:00\n",
              "2  3393789761    17216 2019-01-01 03:00:00\n",
              "3   173214382     6257 2019-01-01 03:00:00\n",
              "4   173214382     6270 2019-01-01 03:00:00"
            ]
          },
          "execution_count": 12,
          "metadata": {},
          "output_type": "execute_result"
        }
      ],
      "source": [
        "data_ts = data\n",
        "data_ts.head()"
      ]
    },
    {
      "cell_type": "code",
      "execution_count": 29,
      "metadata": {},
      "outputs": [
        {
          "name": "stdout",
          "output_type": "stream",
          "text": [
            "2019-01-05 00:00:00\n"
          ]
        }
      ],
      "source": [
        "print(data['hour'].value_counts().idxmax())"
      ]
    },
    {
      "cell_type": "code",
      "execution_count": 31,
      "metadata": {},
      "outputs": [
        {
          "data": {
            "text/html": [
              "<div>\n",
              "<style scoped>\n",
              "    .dataframe tbody tr th:only-of-type {\n",
              "        vertical-align: middle;\n",
              "    }\n",
              "\n",
              "    .dataframe tbody tr th {\n",
              "        vertical-align: top;\n",
              "    }\n",
              "\n",
              "    .dataframe thead th {\n",
              "        text-align: right;\n",
              "    }\n",
              "</style>\n",
              "<table border=\"1\" class=\"dataframe\">\n",
              "  <thead>\n",
              "    <tr style=\"text-align: right;\">\n",
              "      <th></th>\n",
              "      <th>col1</th>\n",
              "      <th>col2</th>\n",
              "      <th>col3</th>\n",
              "    </tr>\n",
              "  </thead>\n",
              "  <tbody>\n",
              "    <tr>\n",
              "      <th>0</th>\n",
              "      <td>A</td>\n",
              "      <td>A</td>\n",
              "      <td>A</td>\n",
              "    </tr>\n",
              "    <tr>\n",
              "      <th>1</th>\n",
              "      <td>A</td>\n",
              "      <td>A</td>\n",
              "      <td>A</td>\n",
              "    </tr>\n",
              "    <tr>\n",
              "      <th>2</th>\n",
              "      <td>B</td>\n",
              "      <td>B</td>\n",
              "      <td>A</td>\n",
              "    </tr>\n",
              "    <tr>\n",
              "      <th>3</th>\n",
              "      <td>B</td>\n",
              "      <td>B</td>\n",
              "      <td>A</td>\n",
              "    </tr>\n",
              "    <tr>\n",
              "      <th>4</th>\n",
              "      <td>B</td>\n",
              "      <td>C</td>\n",
              "      <td>A</td>\n",
              "    </tr>\n",
              "    <tr>\n",
              "      <th>5</th>\n",
              "      <td>C</td>\n",
              "      <td>C</td>\n",
              "      <td>A</td>\n",
              "    </tr>\n",
              "  </tbody>\n",
              "</table>\n",
              "</div>"
            ],
            "text/plain": [
              "  col1 col2 col3\n",
              "0    A    A    A\n",
              "1    A    A    A\n",
              "2    B    B    A\n",
              "3    B    B    A\n",
              "4    B    C    A\n",
              "5    C    C    A"
            ]
          },
          "execution_count": 31,
          "metadata": {},
          "output_type": "execute_result"
        }
      ],
      "source": [
        "d = {'col1': ['A', 'A','B','B','B','C'], 'col2': ['A','A','B','B','C','C'], 'col3': ['A','A','A','A','A','A']}\n",
        "df = pd.DataFrame(data=d)\n",
        "df"
      ]
    },
    {
      "cell_type": "code",
      "execution_count": 42,
      "metadata": {},
      "outputs": [
        {
          "name": "stdout",
          "output_type": "stream",
          "text": [
            "col1\n",
            "B    0.500000\n",
            "A    0.333333\n",
            "C    0.166667\n",
            "Name: proportion, dtype: float64\n",
            "col2\n",
            "A    0.333333\n",
            "B    0.333333\n",
            "C    0.333333\n",
            "Name: proportion, dtype: float64\n",
            "col3\n",
            "A    1.0\n",
            "Name: proportion, dtype: float64\n"
          ]
        }
      ],
      "source": [
        "print(df.col1.value_counts(normalize=True))\n",
        "print(df.col2.value_counts(normalize=True))\n",
        "print(df.col3.value_counts(normalize=True))"
      ]
    },
    {
      "cell_type": "code",
      "execution_count": 47,
      "metadata": {},
      "outputs": [
        {
          "name": "stdout",
          "output_type": "stream",
          "text": [
            "1.0114042647073518\n",
            "1.0986122886681096\n",
            "0.0\n"
          ]
        }
      ],
      "source": [
        "print(entropy(df.col1.value_counts(normalize=True)))\n",
        "print(entropy(df.col2.value_counts(normalize=True)))\n",
        "print(entropy(df.col3.value_counts(normalize=True)))"
      ]
    }
  ],
  "metadata": {
    "colab": {
      "provenance": [],
      "toc_visible": true
    },
    "kernelspec": {
      "display_name": "Python 3",
      "name": "python3"
    },
    "language_info": {
      "codemirror_mode": {
        "name": "ipython",
        "version": 3
      },
      "file_extension": ".py",
      "mimetype": "text/x-python",
      "name": "python",
      "nbconvert_exporter": "python",
      "pygments_lexer": "ipython3",
      "version": "3.11.4"
    }
  },
  "nbformat": 4,
  "nbformat_minor": 0
}
